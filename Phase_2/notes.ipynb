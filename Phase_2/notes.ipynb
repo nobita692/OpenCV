{
 "cells": [
  {
   "cell_type": "markdown",
   "id": "e94e0376",
   "metadata": {},
   "source": [
    "Resizing & Scaling Images - cv2.resize()\n",
    "  resized = cv2.resize(src, dsize, fx, fy, interpolation)"
   ]
  }
 ],
 "metadata": {
  "language_info": {
   "name": "python"
  }
 },
 "nbformat": 4,
 "nbformat_minor": 5
}
